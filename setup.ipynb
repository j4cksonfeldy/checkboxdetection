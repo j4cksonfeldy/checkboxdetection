{
 "cells": [
  {
   "cell_type": "code",
   "execution_count": 1,
   "metadata": {},
   "outputs": [],
   "source": [
    "import os"
   ]
  },
  {
   "cell_type": "markdown",
   "metadata": {},
   "source": [
    "Load cbdata folder into /data, and then run all cells of data_gen.ipynb to generate tf.records, you will need to refer to these paths when setting up the config file."
   ]
  },
  {
   "cell_type": "markdown",
   "metadata": {},
   "source": [
    "First, create a virtual env using the following comands:\n",
    "1) conda env create -f environment.yml\n",
    "2) conda activate tf2.10 "
   ]
  },
  {
   "cell_type": "markdown",
   "metadata": {},
   "source": [
    "in C:/{user}, run:\n",
    "git clone https://github.com/tensorflow/models.git\n",
    "\n",
    "then,\n",
    "cd models/research/object_detection/packages/tf2\n",
    "ctrl+c 'setup.py'\n",
    "cd models/research\n",
    "ctrl+v 'setup.py'"
   ]
  },
  {
   "cell_type": "markdown",
   "metadata": {},
   "source": [
    "Install protobuf tools from: https://github.com/protocolbuffers/protobuf/releases\n",
    "Place in AppData/Local/Programs/Python\n",
    "\n",
    "then,\n",
    "tar -xvf {proto package tar}\n",
    "pip install protobuf==3.20.0\n",
    "\n",
    "finally,\n",
    "go to protoc-XX.X-win64/bin, copy path and add to environment variables"
   ]
  },
  {
   "cell_type": "markdown",
   "metadata": {},
   "source": [
    "Now, in order to compile proto files from TFOD, navigate to models/research/object_detection\n",
    "and run:\n",
    "\n",
    "protoc --proto_path=./protos --python_out=./ ./protos/*.proto"
   ]
  },
  {
   "cell_type": "markdown",
   "metadata": {},
   "source": [
    "Navigate back to models/research --> python -m pip install .\n",
    "[installs object detection API]"
   ]
  },
  {
   "cell_type": "markdown",
   "metadata": {},
   "source": [
    "Now to test the install, run:\n",
    "python object_detection/builders/model_builder_tf2_test.py"
   ]
  },
  {
   "cell_type": "markdown",
   "metadata": {},
   "source": [
    "Lastly, fix paths in {project}/model/{model name}/pipeline.config\n",
    "then, run training script (fix paths) with:"
   ]
  },
  {
   "cell_type": "markdown",
   "metadata": {},
   "source": [
    "python object_detection/model_main_tf2.py --pipeline_config_path=C:\\Users\\jackson.feldman\\checkboxdetection\\model\\centernet_mobilenetv2_fpn_od\\pipeline.config --model_dir=C:\\Users\\jackson.feldman\\checkboxdetection\\model\\centernet_mobilenetv2_fpn_od --alsologtostderr"
   ]
  },
  {
   "cell_type": "markdown",
   "metadata": {},
   "source": [
    "Any import errors, enter python in cmd and manually import, then exit() and rerun training script."
   ]
  }
 ],
 "metadata": {
  "kernelspec": {
   "display_name": "tf2.10",
   "language": "python",
   "name": "python3"
  },
  "language_info": {
   "codemirror_mode": {
    "name": "ipython",
    "version": 3
   },
   "file_extension": ".py",
   "mimetype": "text/x-python",
   "name": "python",
   "nbconvert_exporter": "python",
   "pygments_lexer": "ipython3",
   "version": "3.8.19"
  }
 },
 "nbformat": 4,
 "nbformat_minor": 2
}
