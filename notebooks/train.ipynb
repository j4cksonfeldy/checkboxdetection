{
 "cells": [
  {
   "cell_type": "code",
   "execution_count": 1,
   "metadata": {},
   "outputs": [],
   "source": [
    "import os"
   ]
  },
  {
   "cell_type": "code",
   "execution_count": 2,
   "metadata": {},
   "outputs": [],
   "source": [
    "CUSTOM_MODEL_NAME = 'my_ssd_mobnet'\n",
    "PRETRAINED_MODEL_NAME = 'ssd_mobilenet_v2_fpnlie_320x320_coco17_tpu-8'\n",
    "PRETRAINED_MODEL_URL = 'http://download.tensorflow.org/models/object_detection/tf2/20200711/ssd_mobilenet_v2_fpnlite_320x320_coco17_tpu-8.tar.gz'\n",
    "TF_RECORD_SCRIPT_NAME = 'generate_tfrecord.py'\n",
    "LABEL_MAP_NAME = 'label_map.pbtxt'"
   ]
  },
  {
   "cell_type": "code",
<<<<<<< HEAD
   "execution_count": 2,
=======
   "execution_count": null,
   "metadata": {},
   "outputs": [],
   "source": []
  },
  {
   "cell_type": "code",
   "execution_count": null,
>>>>>>> 7ae8dcf68a1323da51f9f8f74ba868354e0b53db
   "metadata": {},
   "outputs": [],
   "source": [
    "from __future__ import division\n",
    "from __future__ import print_function\n",
    "from __future__ import absolute_import\n",
<<<<<<< HEAD
    "\n",
    "\n",
    "import tensorflow as tf\n",
    "from object_detection.utils import dataset_util\n",
    "import io\n",
    "# from PIL import Image\n",
=======
    "import tensorflow as tf\n",
    "from object_detection.utils import dataset_util\n",
    "import io\n",
    "from PIL import Image\n",
>>>>>>> 7ae8dcf68a1323da51f9f8f74ba868354e0b53db
    "from collections import namedtuple, OrderedDict"
   ]
  },
  {
   "cell_type": "code",
   "execution_count": null,
   "metadata": {},
   "outputs": [],
   "source": [
<<<<<<< HEAD
    "# in cmd tf2/models/research, run:\n",
    "# python object_detection/builders/model_builder_tf2_test.py\n",
    "# 7.29, this runs, GPU support working"
   ]
  },
  {
   "cell_type": "code",
   "execution_count": 7,
   "metadata": {},
   "outputs": [],
   "source": [
    "# Adjust path to your Object Detection API installation\n",
    "object_detection_path = \"C:/Users/jackson/anaconda3/envs/checkbox/models/research/object_detection\"\n",
    "os.chdir(object_detection_path)"
=======
    "# run install tests\n",
    "os.chdir(\"C:/Users/jackson/TF2/models/research\")\n",
    "!python object_detection/builders/model_builder_tf2_test.py"
>>>>>>> 7ae8dcf68a1323da51f9f8f74ba868354e0b53db
   ]
  },
  {
   "cell_type": "code",
   "execution_count": 6,
   "metadata": {},
   "outputs": [
    {
     "name": "stderr",
     "output_type": "stream",
     "text": [
      "Traceback (most recent call last):\n",
      "  File \"model_main_tf2.py\", line 31, in <module>\n",
      "    from object_detection import model_lib_v2\n",
<<<<<<< HEAD
      "ImportError: cannot import name 'model_lib_v2' from 'object_detection' (c:\\Users\\jackson\\anaconda3\\envs\\checkbox\\lib\\site-packages\\object_detection\\__init__.py)\n"
=======
      "ModuleNotFoundError: No module named 'object_detection'\n"
>>>>>>> 7ae8dcf68a1323da51f9f8f74ba868354e0b53db
     ]
    }
   ],
   "source": [
<<<<<<< HEAD
    "python model_main_tf2.py --model_dir=\"C:/Users/jackson/checkboxdetection/training\" --=\"C:/Users/jackson/checkboxdetection/training/ssd_mobilenet_v1_pets.config\""
   ]
  },
  {
   "cell_type": "code",
   "execution_count": null,
   "metadata": {},
   "outputs": [],
   "source": [
    "python model_main_tf2.py --pipeline_config_path=C:\\Users\\jackson\\checkboxdetection\\model\\centernet_mobilenetv2_fpn_od\\pipeline.config --model_dir=C:\\Users\\jackson\\checkboxdetection\\model\\centernet_mobilenetv2_fpn_od --alsologtostderr"
   ]
  },
  {
   "cell_type": "code",
   "execution_count": null,
   "metadata": {},
   "outputs": [],
   "source": [
    "C:\\Users\\jackson\\checkboxdetection\\model\\centernet_mobilenetv2_fpn_od"
=======
    "# Adjust path to your Object Detection API installation\n",
    "object_detection_path = \"C:/Users/jackson.feldman/TF2/models/research/object_detection\"\n",
    "os.chdir(object_detection_path)\n",
    "\n",
    "# Command to start training\n",
    "!python model_main_tf2.py --model_dir=\"C:/Users/jackson.feldman/TF2/models/research/object_detection\" --pipeline_config_path=\"../training/ssd_mobilenet_v1_pets.configconfig\""
>>>>>>> 7ae8dcf68a1323da51f9f8f74ba868354e0b53db
   ]
  }
 ],
 "metadata": {
  "kernelspec": {
   "display_name": "cb",
   "language": "python",
   "name": "python3"
  },
  "language_info": {
   "codemirror_mode": {
    "name": "ipython",
    "version": 3
   },
   "file_extension": ".py",
   "mimetype": "text/x-python",
   "name": "python",
   "nbconvert_exporter": "python",
   "pygments_lexer": "ipython3",
   "version": "3.8.19"
  }
 },
 "nbformat": 4,
 "nbformat_minor": 2
}
